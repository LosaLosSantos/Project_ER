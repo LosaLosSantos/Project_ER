{
 "cells": [
  {
   "cell_type": "code",
   "execution_count": null,
   "metadata": {},
   "outputs": [],
   "source": [
    "import pandas as pd\n",
    "import numpy as np\n",
    "import matplotlib.pyplot as plt"
   ]
  },
  {
   "cell_type": "code",
   "execution_count": null,
   "metadata": {},
   "outputs": [],
   "source": [
    "Dev_df = pd.read_csv(\"C:/Users/loris/Desktop/Project ER/Develop Ind.csv\")\n",
    "HDI_df = pd.read_csv(\"C:/Users/loris/Desktop/Project ER/human-development-index.csv\")\n"
   ]
  },
  {
   "cell_type": "code",
   "execution_count": null,
   "metadata": {},
   "outputs": [],
   "source": [
    "HDI_df\n",
    "HDI_df.shape"
   ]
  },
  {
   "cell_type": "code",
   "execution_count": null,
   "metadata": {},
   "outputs": [],
   "source": [
    "#i'm watching the stucture of the dataset\n",
    "HDI_df.head()\n",
    "print(HDI_df.tail())\n",
    "HDI_df[5890:5923]\n",
    "HDI_df.info()"
   ]
  },
  {
   "cell_type": "code",
   "execution_count": null,
   "metadata": {},
   "outputs": [],
   "source": [
    "#i'm watching the stucture of the dataset\n",
    "Dev_df.head()\n",
    "Dev_df.info()\n",
    "print(Dev_df.shape)\n",
    "Dev_df.tail()"
   ]
  },
  {
   "cell_type": "code",
   "execution_count": null,
   "metadata": {},
   "outputs": [],
   "source": [
    "Glob_df = Dev_df.copy()\n",
    "Glob_df.rename(columns={\"Country Code\": \"Code\"}, inplace=True)\n",
    "Glob_df.rename(columns={\"Time\": \"Year\"}, inplace=True)"
   ]
  },
  {
   "cell_type": "code",
   "execution_count": null,
   "metadata": {},
   "outputs": [],
   "source": [
    "#I tried change type of Year column before the merge, but i can't for Nan\n",
    "Glob_df.isnull().sum()\n",
    "Glob_df[6645:6655]"
   ]
  },
  {
   "cell_type": "code",
   "execution_count": null,
   "metadata": {},
   "outputs": [],
   "source": [
    "Glob_df[5424:6656]\n",
    "#watching Nan Data i noticed that there are also some aggregate of geographics areas\n",
    "#so i'm deleting all the rows under the last country in the dataset\n",
    "Glob_df.drop(Glob_df.index[5425:6656], inplace=True)"
   ]
  },
  {
   "cell_type": "code",
   "execution_count": null,
   "metadata": {},
   "outputs": [],
   "source": [
    "print(Glob_df.shape)\n",
    "print(HDI_df.shape)"
   ]
  },
  {
   "cell_type": "code",
   "execution_count": null,
   "metadata": {},
   "outputs": [],
   "source": [
    "#now i change the type of Year in Glob_df so for have the same type of HDI_df\n",
    "Glob_df[\"Year\"] = Glob_df[\"Year\"].astype(int)\n",
    "\n",
    "print(f\"{Glob_df.columns}\\n{HDI_df.columns}\")"
   ]
  },
  {
   "cell_type": "code",
   "execution_count": null,
   "metadata": {},
   "outputs": [],
   "source": [
    "Glob_df = Glob_df.set_index([\"Code\", \"Year\"])\n",
    "HDI_df = HDI_df.set_index([\"Code\", \"Year\"])"
   ]
  },
  {
   "cell_type": "code",
   "execution_count": null,
   "metadata": {},
   "outputs": [],
   "source": [
    "print(HDI_df)\n",
    "print(Glob_df)"
   ]
  },
  {
   "cell_type": "code",
   "execution_count": null,
   "metadata": {},
   "outputs": [],
   "source": [
    "#I controll the null values before the merge\n",
    "print(f\"{Glob_df.isnull().sum()}\\n{HDI_df.isnull().sum()}\")"
   ]
  },
  {
   "cell_type": "code",
   "execution_count": null,
   "metadata": {},
   "outputs": [],
   "source": [
    "print(HDI_df[5855:5940])"
   ]
  },
  {
   "cell_type": "code",
   "execution_count": null,
   "metadata": {},
   "outputs": [],
   "source": [
    "#i do the merge and lose the HDI_df's rows without correspondence with Glob_df\n",
    "Glob_df = Glob_df.merge(HDI_df[\"Human Development Index\"], left_index=True, right_index=True, how='left')\n",
    "\n",
    "#i controll the Nan created with the merge\n",
    "Glob_df[\"Human Development Index\"].isnull().value_counts()"
   ]
  },
  {
   "cell_type": "code",
   "execution_count": null,
   "metadata": {},
   "outputs": [],
   "source": [
    "HDI_Nan_countries = Glob_df.groupby(\"Code\")[\"Human Development Index\"].agg(lambda x : x.isnull().sum())\n",
    "HDI_Nan_countries"
   ]
  },
  {
   "cell_type": "code",
   "execution_count": null,
   "metadata": {},
   "outputs": [],
   "source": [
    "#i'm watching how many countries have no data for the HDI\n",
    "HDI_Nan_countries[HDI_Nan_countries == 25].index\n",
    "#This country code there were not in HDI_df.I controlled with ex. HDI_df.loc[\"SXM\"], HDI_df.loc[\"GUM\"]"
   ]
  },
  {
   "cell_type": "code",
   "execution_count": null,
   "metadata": {},
   "outputs": [],
   "source": [
    "#The others country with Nan Values is for dismatch beetween years in the two merged dataset\n",
    "#(every country have at least one because the year 2022 there was not in the HDI_df ), \n",
    "#so i dcided to mantain only country with <4 Nan that i can manage sobstituing Nan while a prediction of the values\n",
    "HDI_df.loc[\"AGO\"]\n",
    "HDI_df.loc[\"GNB\"]\n",
    "HDI_df.loc[\"AND\"] "
   ]
  },
  {
   "cell_type": "code",
   "execution_count": null,
   "metadata": {},
   "outputs": [],
   "source": [
    "#i decided to delete countries with more than 3 Nan so i control which they are\n",
    "HDI_Null_too_null = HDI_Nan_countries[(HDI_Nan_countries > 3)]\n",
    "\n",
    "#i control the countris with too many nan values in the HDI column\n",
    "HDI_Null_too_null.index"
   ]
  },
  {
   "cell_type": "code",
   "execution_count": null,
   "metadata": {},
   "outputs": [],
   "source": [
    "#i create the mask of the countries that i want mantain\n",
    "HDI_few_Null = HDI_Nan_countries[HDI_Nan_countries <= 3]\n",
    "HDI_few_Null"
   ]
  },
  {
   "cell_type": "code",
   "execution_count": null,
   "metadata": {},
   "outputs": [],
   "source": [
    "#i take these countries applying the boolean mask\n",
    "Glob_df2 = Glob_df[Glob_df.index.get_level_values(\"Code\").isin(HDI_few_Null.index)]\n",
    "\n",
    "Glob_df2.isna().sum()"
   ]
  },
  {
   "cell_type": "code",
   "execution_count": null,
   "metadata": {},
   "outputs": [],
   "source": [
    "#Replace dots with NaN throughout the dataframe, too estimate the real number of Nan\n",
    "Glob_df2.replace('..', np.nan, inplace=True)\n",
    "\n",
    "Glob_df2.isna().sum()"
   ]
  },
  {
   "cell_type": "code",
   "execution_count": null,
   "metadata": {},
   "outputs": [],
   "source": [
    "#I'm getting an idea of ​​the countries with missing values ​​in the key indices for my analysis\n",
    "Gmask = Glob_df2.groupby('Code')[\"GDP (constant 2015 US$) [NY.GDP.MKTP.KD]\"].agg(lambda x : x.isnull().sum())\n",
    "Gmask[Gmask != 0]"
   ]
  },
  {
   "cell_type": "code",
   "execution_count": null,
   "metadata": {},
   "outputs": [],
   "source": [
    "Gmask2 = Glob_df2.groupby(\"Code\")[\"GDP (current US$) [NY.GDP.MKTP.CD]\"].agg(lambda x : x.isnull().sum())\n",
    "Gmask2[Gmask2 != 0]"
   ]
  },
  {
   "cell_type": "code",
   "execution_count": null,
   "metadata": {},
   "outputs": [],
   "source": [
    "Glob_df2.columns\n",
    "\n",
    "#i drop columns that i'm sure to don't use\n",
    "columns_to_drop = [\"Country Name\", \"Time Code\",\n",
    "\"Arms exports (SIPRI trend indicator values) [MS.MIL.XPRT.KD]\",\n",
    "\"Arms imports (SIPRI trend indicator values) [MS.MIL.MPRT.KD]\",\n",
    "\"Consumer price index (2010 = 100) [FP.CPI.TOTL]\",\n",
    "\"Cost of business start-up procedures, female (% of GNI per capita) [IC.REG.COST.PC.FE.ZS]\",\n",
    "\"Coverage of social insurance programs (% of population) [per_si_allsi.cov_pop_tot]\",\n",
    "\"Current education expenditure, total (% of total expenditure in public institutions) [SE.XPD.CTOT.ZS]\",\n",
    "\"Domestic credit to private sector (% of GDP) [FS.AST.PRVT.GD.ZS]\",\n",
    "\"Gross savings (% of GDP) [NY.GNS.ICTR.ZS]\",\n",
    "\"Human capital index (HCI) (scale 0-1) [HD.HCI.OVRL]\",\n",
    "\"Manufacturing, value added (% of GDP) [NV.IND.MANF.ZS]\",\n",
    "\"Services, value added (% of GDP) [NV.SRV.TOTL.ZS]\",\n",
    "\"Literacy rate, adult total (% of people ages 15 and above) [SE.ADT.LITR.ZS]\",\n",
    "\"Central government debt, total (% of GDP) [GC.DOD.TOTL.GD.ZS]\",\n",
    "\"Interest payments (% of expense) [GC.XPN.INTP.ZS]\",\n",
    "\"Researchers in R&D (per million people) [SP.POP.SCIE.RD.P6]\"]\n"
   ]
  },
  {
   "cell_type": "code",
   "execution_count": null,
   "metadata": {},
   "outputs": [],
   "source": [
    "Glob_df2 = Glob_df2.drop(columns=columns_to_drop)\n",
    "\n",
    "Glob_df2.info()"
   ]
  },
  {
   "cell_type": "code",
   "execution_count": null,
   "metadata": {},
   "outputs": [],
   "source": [
    "#The code selects columns with data type 'object' and then applies the pd.to_numeric function to convert to numeric format.\n",
    "#This helps in transforming non-numeric data to numeric, replacing non-convertible values with NaN.\n",
    "\n",
    "columns_to_convert = Glob_df2.columns[Glob_df2.dtypes == \"object\"]\n",
    "Glob_df2[columns_to_convert] = Glob_df2[columns_to_convert].apply(pd.to_numeric)"
   ]
  },
  {
   "cell_type": "code",
   "execution_count": null,
   "metadata": {},
   "outputs": [],
   "source": [
    "Glob_df3 = Glob_df2.copy()"
   ]
  },
  {
   "cell_type": "code",
   "execution_count": null,
   "metadata": {},
   "outputs": [],
   "source": [
    "Glob_df3.isna().sum() == Glob_df2.isna().sum()"
   ]
  },
  {
   "cell_type": "code",
   "execution_count": null,
   "metadata": {},
   "outputs": [],
   "source": [
    "Glob_df3.index"
   ]
  }
 ],
 "metadata": {
  "kernelspec": {
   "display_name": "Python 3",
   "language": "python",
   "name": "python3"
  },
  "language_info": {
   "codemirror_mode": {
    "name": "ipython",
    "version": 3
   },
   "file_extension": ".py",
   "mimetype": "text/x-python",
   "name": "python",
   "nbconvert_exporter": "python",
   "pygments_lexer": "ipython3",
   "version": "3.12.1"
  }
 },
 "nbformat": 4,
 "nbformat_minor": 2
}
